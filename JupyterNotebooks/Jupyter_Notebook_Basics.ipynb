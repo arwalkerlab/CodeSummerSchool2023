{
 "cells": [
  {
   "cell_type": "markdown",
   "id": "11111eb2",
   "metadata": {},
   "source": [
    "# Introduction to Jupyter Notebooks\n",
    "\n",
    "Jupyter notebooks are a handy tool that will allow you to write code and annotate with text-based sections.  Notebooks are divided into \"cells\", which in the standard form include `Markdown` and `Code` types.\n",
    "\n",
    "The `Markdown` cells (such as the one in which these words appear) are useful for writing plain text, displaying static images, linking to external websites or sources, and using $\\LaTeX$ formatting for math or other things.\n",
    "\n",
    "The `Code` cells are where your actual code goes.  The programming language to be used is determined by the kernel, which in our case is the Python3 kernel (see the upper-right corner of the notebook page).  This means all code must be in the Python 3 code format.\n",
    "\n",
    "It is possible to install kernels for other programming languages, however the process is somewhat more involved and is not necessary for this workshop.\n",
    "\n",
    "____\n",
    "\n",
    "Each notebook can be thought of as an interactive code session.  Every cell that has been \"run\" updates the overall session for that notebook.  In this way, you can divide up larger tasks into smaller pieces, carry variable information from one cell to the next, and define functions or set up workflows early on to then use later in the notebook.  There are also a number of ways to interact with things outside the notebook, such as files or even the system itself.\n"
   ]
  },
  {
   "cell_type": "markdown",
   "id": "2ef1cd11",
   "metadata": {},
   "source": [
    "#### The `os` Library\n",
    "\n",
    "The `os` Python library allows users to interact with the operating system, and is very useful for things ranging from file- and directory-manipulation up to actual command line interactions\n",
    "\n",
    "To start, let's import the `os` library and see what our current location is."
   ]
  },
  {
   "cell_type": "code",
   "execution_count": 1,
   "id": "b162b9a0",
   "metadata": {},
   "outputs": [
    {
     "data": {
      "text/plain": [
       "'/home/mark/Dropbox/CodeSummerSchool2023/JupyterNotebooks'"
      ]
     },
     "execution_count": 1,
     "metadata": {},
     "output_type": "execute_result"
    }
   ],
   "source": [
    "import os\n",
    "\n",
    "os.getcwd()"
   ]
  },
  {
   "cell_type": "markdown",
   "id": "9a92cfd7",
   "metadata": {},
   "source": [
    "Now let's create a new directory in this location.  We'll call it `new_dir/`.  Also, if it already exists, we'll make sure the system doesn't throw up an error at us and just accepts it.  This is the python equivalent to the bash command `mkdir -p new_dir/`."
   ]
  },
  {
   "cell_type": "code",
   "execution_count": 2,
   "id": "cfe00daa",
   "metadata": {},
   "outputs": [],
   "source": [
    "os.makedirs(\"new_dir/\",exist_ok=True)"
   ]
  },
  {
   "cell_type": "markdown",
   "id": "1528c83e",
   "metadata": {},
   "source": [
    "Now that the directory exists, we can move into it.  We'll also confirm that's our current location."
   ]
  },
  {
   "cell_type": "code",
   "execution_count": 3,
   "id": "ee7ab969",
   "metadata": {},
   "outputs": [],
   "source": [
    "os.chdir(\"new_dir/\")"
   ]
  },
  {
   "cell_type": "code",
   "execution_count": 4,
   "id": "54ee5bc2",
   "metadata": {},
   "outputs": [
    {
     "data": {
      "text/plain": [
       "'/home/mark/Dropbox/CodeSummerSchool2023/JupyterNotebooks/new_dir'"
      ]
     },
     "execution_count": 4,
     "metadata": {},
     "output_type": "execute_result"
    }
   ],
   "source": [
    "os.getcwd()"
   ]
  },
  {
   "cell_type": "markdown",
   "id": "fc6901bf",
   "metadata": {},
   "source": [
    "We can move back and forth easily, just keep in mind that your current location is maintained in the entire notebook session.  If you change your working directory (`os.chdir()`), you'll need to account for that in subsequent cells if you're looking for data files in specific locations.\n",
    "\n",
    "We can also save the path into a variable, and then use that variable for future things."
   ]
  },
  {
   "cell_type": "code",
   "execution_count": 5,
   "id": "479e5d9c",
   "metadata": {},
   "outputs": [
    {
     "name": "stdout",
     "output_type": "stream",
     "text": [
      "/home/mark/Dropbox/CodeSummerSchool2023/JupyterNotebooks\n"
     ]
    }
   ],
   "source": [
    "os.chdir(\"../\")\n",
    "my_location = os.getcwd()\n",
    "print(my_location)"
   ]
  },
  {
   "cell_type": "markdown",
   "id": "0dc8366e",
   "metadata": {},
   "source": [
    "What if this notebook was a filename?  If we assign just the notebook name to a variable, it doesn't include any path information.  This is the \"relative path\".  We can use the `os.path` module to get the \"absolute path\"."
   ]
  },
  {
   "cell_type": "code",
   "execution_count": 7,
   "id": "43067880",
   "metadata": {},
   "outputs": [
    {
     "name": "stdout",
     "output_type": "stream",
     "text": [
      "Jupyter_Notebook_Basics.ipynb\n"
     ]
    }
   ],
   "source": [
    "this_notebook = \"Jupyter_Notebook_Basics.ipynb\"\n",
    "print(this_notebook)"
   ]
  },
  {
   "cell_type": "code",
   "execution_count": 8,
   "id": "66bf5a3f",
   "metadata": {},
   "outputs": [
    {
     "data": {
      "text/plain": [
       "'/home/mark/Dropbox/CodeSummerSchool2023/JupyterNotebooks/Jupyter_Notebook_Basics.ipynb'"
      ]
     },
     "execution_count": 8,
     "metadata": {},
     "output_type": "execute_result"
    }
   ],
   "source": [
    "os.path.abspath(this_notebook)"
   ]
  },
  {
   "cell_type": "markdown",
   "id": "1489ad59",
   "metadata": {},
   "source": [
    "We can see that the module added the string contained in the `this_notebook` variable and added it to the current location, creating the absolute path.  However, let's try this with a file that doesn't exist in this folder."
   ]
  },
  {
   "cell_type": "code",
   "execution_count": 10,
   "id": "e62604f2",
   "metadata": {},
   "outputs": [
    {
     "data": {
      "text/plain": [
       "'/home/mark/Dropbox/CodeSummerSchool2023/JupyterNotebooks/does_not_exist.txt'"
      ]
     },
     "execution_count": 10,
     "metadata": {},
     "output_type": "execute_result"
    }
   ],
   "source": [
    "os.path.abspath(\"does_not_exist.txt\")"
   ]
  },
  {
   "cell_type": "markdown",
   "id": "7060ac1b",
   "metadata": {},
   "source": [
    "The same thing happens.  But this file doesn't exist.  The module has just given us a filepath that would lead to that file in this folder, it didn't actually check to see if that file exists or not.  Fortunately, we can do that on our own."
   ]
  },
  {
   "cell_type": "code",
   "execution_count": 11,
   "id": "7deb0192",
   "metadata": {},
   "outputs": [
    {
     "data": {
      "text/plain": [
       "False"
      ]
     },
     "execution_count": 11,
     "metadata": {},
     "output_type": "execute_result"
    }
   ],
   "source": [
    "os.path.exists(\"does_not_exist.txt\")"
   ]
  },
  {
   "cell_type": "markdown",
   "id": "07a0b957",
   "metadata": {},
   "source": [
    "Now we can see that the file doesn't actually exist, reported as a boolean (True/False)\n",
    "\n",
    "Going back to the notebook file, what if we wanted additional information about it?  Let's say we wanted to know when the file was created.  We can use the `getctime` function to get that information.  We can also use `getmtime` to see when the file was modified."
   ]
  },
  {
   "cell_type": "code",
   "execution_count": 29,
   "id": "4bdfe906",
   "metadata": {},
   "outputs": [
    {
     "name": "stdout",
     "output_type": "stream",
     "text": [
      "1688588253.8811452\n"
     ]
    }
   ],
   "source": [
    "create_time = os.path.getctime(\"Jupyter_Notebook_Basics.ipynb\")\n",
    "print(create_time)"
   ]
  },
  {
   "cell_type": "markdown",
   "id": "6aaf77dd",
   "metadata": {},
   "source": [
    "That doesn't look like a date/time at all.  That's because the value is reported as the number of seconds since the epoch (Unix start of all time, which was **January 1st, 1970 at 00:00:00 UTC**).\n",
    "If we want a more useful timestamp, we'll need to bring in the `time` library.\n"
   ]
  },
  {
   "cell_type": "code",
   "execution_count": 30,
   "id": "0ba90817",
   "metadata": {},
   "outputs": [
    {
     "name": "stdout",
     "output_type": "stream",
     "text": [
      "Wed Jul  5 16:17:33 2023\n"
     ]
    }
   ],
   "source": [
    "import time\n",
    "local_time = time.ctime(create_time)\n",
    "print(local_time)"
   ]
  },
  {
   "cell_type": "markdown",
   "id": "de7bb8e7",
   "metadata": {},
   "source": [
    "That's much better.  Let's also get the file's extension, base name, and parent directory."
   ]
  },
  {
   "cell_type": "code",
   "execution_count": 28,
   "id": "1a50339c",
   "metadata": {},
   "outputs": [
    {
     "name": "stdout",
     "output_type": "stream",
     "text": [
      "\tAbsolute Path\n",
      "/home/mark/Dropbox/CodeSummerSchool2023/JupyterNotebooks/Jupyter_Notebook_Basics.ipynb\n",
      "\n",
      "\tBase Name\n",
      "/home/mark/Dropbox/CodeSummerSchool2023/JupyterNotebooks/Jupyter_Notebook_Basics\n",
      "\n",
      "\tExtension\n",
      ".ipynb\n",
      "\n",
      "\tParent Directory\n",
      "/home/mark/Dropbox/CodeSummerSchool2023/JupyterNotebooks\n"
     ]
    }
   ],
   "source": [
    "full_notebook_path = os.path.abspath(\"Jupyter_Notebook_Basics.ipynb\")\n",
    "print(\"\\tAbsolute Path\")\n",
    "print(full_notebook_path)\n",
    "print(\"\")\n",
    "base_name,extension = os.path.splitext(full_notebook_path)\n",
    "print(\"\\tBase Name\")\n",
    "print(base_name)\n",
    "print(\"\")\n",
    "print(\"\\tExtension\")\n",
    "print(extension)\n",
    "print(\"\")\n",
    "parent_directory = os.path.dirname(full_notebook_path)\n",
    "print(\"\\tParent Directory\")\n",
    "print(parent_directory)"
   ]
  },
  {
   "cell_type": "markdown",
   "id": "9a382674",
   "metadata": {},
   "source": [
    "We can also \"nest\" the `dirname` function multiple times to go up multiple levels."
   ]
  },
  {
   "cell_type": "code",
   "execution_count": 32,
   "id": "45326034",
   "metadata": {},
   "outputs": [
    {
     "name": "stdout",
     "output_type": "stream",
     "text": [
      "/home/mark/Dropbox/CodeSummerSchool2023\n"
     ]
    }
   ],
   "source": [
    "grandparent_directory = os.path.dirname(parent_directory)\n",
    "print(grandparent_directory)"
   ]
  },
  {
   "cell_type": "markdown",
   "id": "b11350dc",
   "metadata": {},
   "source": [
    "#### Topics Covered\n",
    "\n",
    "- `import os` \n",
    "  - `os.getcwd`\n",
    "  - `os.chdir`\n",
    "  - `os.makedirs`\n",
    "  - `os.path.abspath`\n",
    "  - `os.path.exists`\n",
    "  - `os.path.getctime`\n",
    "  - `os.path.getmtime`\n",
    "  - `os.path.splitext`\n",
    "  - `os.path.dirname`\n",
    "- `import time`\n",
    "  - `time.ctime`\n"
   ]
  },
  {
   "cell_type": "code",
   "execution_count": null,
   "id": "a7cc6c0f",
   "metadata": {},
   "outputs": [],
   "source": []
  }
 ],
 "metadata": {
  "kernelspec": {
   "display_name": "Python 3 (ipykernel)",
   "language": "python",
   "name": "python3"
  },
  "language_info": {
   "codemirror_mode": {
    "name": "ipython",
    "version": 3
   },
   "file_extension": ".py",
   "mimetype": "text/x-python",
   "name": "python",
   "nbconvert_exporter": "python",
   "pygments_lexer": "ipython3",
   "version": "3.7.11"
  }
 },
 "nbformat": 4,
 "nbformat_minor": 5
}
