{
 "cells": [
  {
   "cell_type": "markdown",
   "id": "57964b93",
   "metadata": {},
   "source": [
    "# Loops\n",
    "\n",
    "One of the most powerful tools in programming is the **loop**.  A loop is simply a portion of code that repeats a number of times before continuing on. Loops can be useful when you have small tasks that must be performed on a large number of things.\n",
    "\n",
    "There are multiple kinds of loops available in python as well as multiple ways to manipulate them.\n",
    "\n",
    "First, we'll look at the `for` loop."
   ]
  },
  {
   "cell_type": "markdown",
   "id": "bbe36c42",
   "metadata": {},
   "source": [
    "### For Loops\n",
    "A `for` loop is meant to run a finite number of times, usually by iterating along an array of values.  These values can simply be a counter, such as the integers between 0 and 100, or they can be elements in a list, such as `[\"A\",\"B\",\"C\"]`.\n",
    "\n",
    "Let's look at a few examples.  First, we'll start with a simple counter loop.  Keep in mind that anything you want repeated in the loop must be kept within the scope of that loop.  For python, that means using the correct indentations.  For other languages, this may be determined in a different way."
   ]
  },
  {
   "cell_type": "code",
   "execution_count": 1,
   "id": "c718c291",
   "metadata": {},
   "outputs": [
    {
     "name": "stdout",
     "output_type": "stream",
     "text": [
      "0\n",
      "1\n",
      "2\n",
      "3\n",
      "4\n",
      "5\n",
      "6\n",
      "7\n",
      "8\n",
      "9\n"
     ]
    }
   ],
   "source": [
    "for i in range(10):\n",
    "    print(i)"
   ]
  },
  {
   "cell_type": "markdown",
   "id": "fb54eee0",
   "metadata": {},
   "source": [
    "The use of the `range()` function is the simplest form of a `for` loop, in that it just uses an iterator starting at zero and increases it by one every time the loop completes.  You might notice that the values printed out are 0 through 9.  This is because of the values output by `range`.  It stops at the given integer in the example above.\n",
    "\n",
    "You can also start somewhere other than zero by providing two numbers to the call."
   ]
  },
  {
   "cell_type": "code",
   "execution_count": 2,
   "id": "f304c872",
   "metadata": {},
   "outputs": [
    {
     "name": "stdout",
     "output_type": "stream",
     "text": [
      "5\n",
      "6\n",
      "7\n",
      "8\n",
      "9\n",
      "10\n",
      "11\n",
      "12\n",
      "13\n",
      "14\n"
     ]
    }
   ],
   "source": [
    "for i in range(5,15):\n",
    "    print(i)"
   ]
  },
  {
   "cell_type": "markdown",
   "id": "7f7d7f12",
   "metadata": {},
   "source": [
    "See how it now prints from 5 to 14, again stopping at the final value.\n",
    "\n",
    "We can also use a **stride**, which is how many values to skip between each value given in the list.  A stride of 1 means \"every number\", and is the default.  A stride of 2 means \"every second number\", 3 is every third, and so on."
   ]
  },
  {
   "cell_type": "code",
   "execution_count": 3,
   "id": "54903ef8",
   "metadata": {},
   "outputs": [
    {
     "name": "stdout",
     "output_type": "stream",
     "text": [
      "5\n",
      "7\n",
      "9\n",
      "11\n",
      "13\n"
     ]
    }
   ],
   "source": [
    "for i in range(5,15,2):\n",
    "    print(i)"
   ]
  },
  {
   "cell_type": "markdown",
   "id": "b83b2594",
   "metadata": {},
   "source": [
    "Note that now, instead of stopping at 14, it stops at 13.  This is because after 13, the next value would be 15, which is already at the end of the range.\n",
    "\n",
    "It is common practice to use single letters for counters, specifically `i`, `j`, and `k`, with a general agreement among programmers that if you need more depth than that, you should reexamine the algorithm you're using and try to find a more efficient approach.  Keep in mind that while you can reuse counter variables from one loop to the next, using the same variable in a nested loop is a recipe for disaster.\n",
    "\n",
    "The example below shows how the values of i and j change during each iteration of each loop.  The outer loop (using `i`) goes from 1 to 4, and each value there has a complete inner loop (using `j`) before it continues its own execution."
   ]
  },
  {
   "cell_type": "code",
   "execution_count": 10,
   "id": "d60696bd",
   "metadata": {},
   "outputs": [
    {
     "name": "stdout",
     "output_type": "stream",
     "text": [
      "1 * 1 = 1\n",
      "1 * 2 = 2\n",
      "1 * 3 = 3\n",
      "end of outer loop iteration\n",
      "2 * 1 = 2\n",
      "2 * 2 = 4\n",
      "2 * 3 = 6\n",
      "end of outer loop iteration\n",
      "3 * 1 = 3\n",
      "3 * 2 = 6\n",
      "3 * 3 = 9\n",
      "end of outer loop iteration\n",
      "4 * 1 = 4\n",
      "4 * 2 = 8\n",
      "4 * 3 = 12\n",
      "end of outer loop iteration\n"
     ]
    }
   ],
   "source": [
    "for i in range(1,5):\n",
    "    for j in range(1,4):\n",
    "        print(i,\"*\",j,\"=\",i*j)\n",
    "    print(\"end of outer loop iteration\")"
   ]
  },
  {
   "cell_type": "markdown",
   "id": "b735f359",
   "metadata": {},
   "source": [
    "We can also use loops to change variables that exist outside the loop.  For example, let's say you wanted the sum all the numbers between from 1 to 100.\n",
    "\n",
    "Mathematically written, this would be a summation equation.\n",
    "\n",
    "$$\\begin{align}\n",
    "N_{tot} & = \\sum_{n=1}^{100}{n} \\\\\n",
    "& = 0 + 1 + 2 + \\cdots + 99 + 100\n",
    "\\end{align}$$\n",
    "\n"
   ]
  },
  {
   "cell_type": "code",
   "execution_count": 12,
   "id": "bbc2d578",
   "metadata": {},
   "outputs": [
    {
     "name": "stdout",
     "output_type": "stream",
     "text": [
      "5050\n"
     ]
    }
   ],
   "source": [
    "total = 0\n",
    "for i in range(1,101):\n",
    "    total += i\n",
    "print(total)"
   ]
  },
  {
   "cell_type": "markdown",
   "id": "92a6048f",
   "metadata": {},
   "source": [
    "The `for` loop will run until it completes its set number of iterations or if something else causes it to end early.  Ending loops early can be useful, especially for things like error handling.  Let's try an example where we print out all numbers from 1 to 100, but if we get a number divisible by 17, we just leave the loop immediately."
   ]
  },
  {
   "cell_type": "code",
   "execution_count": 13,
   "id": "dc926b12",
   "metadata": {},
   "outputs": [
    {
     "name": "stdout",
     "output_type": "stream",
     "text": [
      "1\n",
      "2\n",
      "3\n",
      "4\n",
      "5\n",
      "6\n",
      "7\n",
      "8\n",
      "9\n",
      "10\n",
      "11\n",
      "12\n",
      "13\n",
      "14\n",
      "15\n",
      "16\n",
      "17\n"
     ]
    }
   ],
   "source": [
    "for i in range(1,101):\n",
    "    print(i)\n",
    "    if i%17 == 0:\n",
    "        break"
   ]
  },
  {
   "cell_type": "markdown",
   "id": "06298685",
   "metadata": {},
   "source": [
    "The `break` command tells the immediate surrounding loop to end.  It will not break outer loops, though, so be sure you're putting the `break` where you actually want it.  In the example above, we used `i%17 == 0` as our condition.  The `%` is called **modulo**, and is basically shorthand for \"the remainder when divided by\".  Here, we're dividing `i` by 17 and taking the remainder.  The first instance where that remainder value is equal to 0 would be 17.  If our loop had started at 0, then the first instance would be 0 ($\\frac{0}{17} = 0$).\n",
    "\n",
    "We can also do something to end the current iteration and begin the next one.  This uses the `continue` call instead of `break`.  In the example below, we'll just use 1 to 22, and if the number is divisible by 3, we will skip the `print()` function and simply start the next iteration."
   ]
  },
  {
   "cell_type": "code",
   "execution_count": 20,
   "id": "d418ac9c",
   "metadata": {},
   "outputs": [
    {
     "name": "stdout",
     "output_type": "stream",
     "text": [
      "1\n",
      "2\n",
      "4\n",
      "5\n",
      "7\n",
      "8\n",
      "10\n",
      "11\n",
      "13\n",
      "14\n",
      "16\n",
      "17\n",
      "19\n",
      "20\n"
     ]
    }
   ],
   "source": [
    "for i in range(1,22):\n",
    "    if i%3 == 0:\n",
    "        continue\n",
    "    print(i)\n"
   ]
  },
  {
   "cell_type": "markdown",
   "id": "20dbe329",
   "metadata": {},
   "source": [
    "We can also iterate over lists, assigning each element in the list to the iterator variable in sequence."
   ]
  },
  {
   "cell_type": "code",
   "execution_count": 26,
   "id": "93b205d3",
   "metadata": {},
   "outputs": [
    {
     "name": "stdout",
     "output_type": "stream",
     "text": [
      "A\n",
      "B\n",
      "C\n",
      "D\n",
      "E\n",
      "F\n",
      "G\n"
     ]
    }
   ],
   "source": [
    "list_of_letters = [\"A\",\"B\",\"C\",\"D\",\"E\",\"F\",\"G\"]\n",
    "for letter in list_of_letters:\n",
    "    print(letter)"
   ]
  },
  {
   "cell_type": "markdown",
   "id": "31cda237",
   "metadata": {},
   "source": [
    "We can also iterate through a list in a way that obtains the index (position in the list) of the element as well as the element itself.  This involves using the `enumerate()` function."
   ]
  },
  {
   "cell_type": "code",
   "execution_count": 28,
   "id": "f2f955b7",
   "metadata": {},
   "outputs": [
    {
     "name": "stdout",
     "output_type": "stream",
     "text": [
      "Element 0 is A\n",
      "Element 1 is B\n",
      "Element 2 is C\n",
      "Element 3 is D\n",
      "Element 4 is E\n",
      "Element 5 is F\n",
      "Element 6 is G\n"
     ]
    }
   ],
   "source": [
    "list_of_letters = [\"A\",\"B\",\"C\",\"D\",\"E\",\"F\",\"G\"]\n",
    "for i,letter in enumerate(list_of_letters):\n",
    "    print(\"Element\",i,\"is\",letter)"
   ]
  },
  {
   "cell_type": "markdown",
   "id": "b272887e",
   "metadata": {},
   "source": [
    "Many classes and datatypes also have their own internal iterators beyond `range()` or `enumerate()`.  For example, a dictionary has the iterator `items()`, which returns a matched pair in the form of a key and value."
   ]
  },
  {
   "cell_type": "code",
   "execution_count": 29,
   "id": "55316d9a",
   "metadata": {},
   "outputs": [
    {
     "name": "stdout",
     "output_type": "stream",
     "text": [
      "Name  --  Cheddar\n",
      "Species  --  Dog\n",
      "Age  --  10\n",
      "Type  --  Common\n"
     ]
    }
   ],
   "source": [
    "test_dictionary = {\"Name\":\"Cheddar\",\n",
    "                  \"Species\":\"Dog\",\n",
    "                  \"Age\":10,\n",
    "                  \"Type\":\"Common\"}\n",
    "for key,value in test_dictionary.items():\n",
    "    print(key,\" -- \", value)"
   ]
  },
  {
   "cell_type": "markdown",
   "id": "a52f2194",
   "metadata": {},
   "source": [
    "We can also link two lists together using the `zip()` function.  This is useful when you need to link elements together for other purposes, such as to pass to a function.  It is also helpful when you have lists of different lengths and need to ensure that a loop iteration only acts when both lists have a value available. The example below demonstrates this, with `first_list` containing seven elements and `second_list` only having six."
   ]
  },
  {
   "cell_type": "code",
   "execution_count": 34,
   "id": "359ed213",
   "metadata": {},
   "outputs": [
    {
     "name": "stdout",
     "output_type": "stream",
     "text": [
      "('A', 'Z')\n",
      "('B', 'Y')\n",
      "('C', 'X')\n",
      "('D', 'W')\n",
      "('E', 'V')\n",
      "('F', 'U')\n"
     ]
    }
   ],
   "source": [
    "first_list  = [\"A\",\"B\",\"C\",\"D\",\"E\",\"F\",\"G\"]\n",
    "second_list = [\"Z\",\"Y\",\"X\",\"W\",\"V\",\"U\"]\n",
    "for item in zip(first_list,second_list):\n",
    "    print(item)"
   ]
  },
  {
   "cell_type": "markdown",
   "id": "283c4021",
   "metadata": {},
   "source": [
    "### While loops\n",
    "The `while` loop is different than the `for` loop in that it will run until it is stopped, so long as the condition given is true.  This allows for different kinds of iteration or even repetitions without iterations until a specific condition has been met.  Let's look at some examples."
   ]
  },
  {
   "cell_type": "code",
   "execution_count": 15,
   "id": "e1d1afa0",
   "metadata": {},
   "outputs": [
    {
     "name": "stdout",
     "output_type": "stream",
     "text": [
      "10\n",
      "9\n",
      "8\n",
      "7\n",
      "6\n",
      "5\n",
      "4\n",
      "3\n",
      "2\n",
      "1\n"
     ]
    }
   ],
   "source": [
    "i = 10\n",
    "while i>0:\n",
    "    print(i)\n",
    "    i -= 1"
   ]
  },
  {
   "cell_type": "markdown",
   "id": "f658f61f",
   "metadata": {},
   "source": [
    "In the example above, we gave `i` an initial value, then changed it each time the loop ran.  Once the value of `i` dropped to a value where our condition (`i>0`) was no longer true, the loop ended.  In this example, we are still using an iterator, simply in a different way.\n",
    "\n",
    "We can also include `break` or `continue` just as before."
   ]
  },
  {
   "cell_type": "code",
   "execution_count": 25,
   "id": "35d1c578",
   "metadata": {},
   "outputs": [
    {
     "name": "stdout",
     "output_type": "stream",
     "text": [
      "19\n",
      "17\n",
      "16\n",
      "14\n",
      "13\n",
      "11\n",
      "10\n",
      "8\n",
      "7\n",
      "5\n"
     ]
    }
   ],
   "source": [
    "i = 20\n",
    "while i>0:\n",
    "    i -= 1\n",
    "    if i%3 == 0:\n",
    "        continue\n",
    "    if i == 4:\n",
    "        break\n",
    "    print(i)\n"
   ]
  }
 ],
 "metadata": {
  "kernelspec": {
   "display_name": "Python 3",
   "language": "python",
   "name": "python3"
  },
  "language_info": {
   "codemirror_mode": {
    "name": "ipython",
    "version": 3
   },
   "file_extension": ".py",
   "mimetype": "text/x-python",
   "name": "python",
   "nbconvert_exporter": "python",
   "pygments_lexer": "ipython3",
   "version": "3.7.11"
  }
 },
 "nbformat": 4,
 "nbformat_minor": 5
}
