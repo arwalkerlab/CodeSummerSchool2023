{
 "cells": [
  {
   "attachments": {},
   "cell_type": "markdown",
   "id": "11111eb2",
   "metadata": {},
   "source": [
    "# Introduction to Jupyter Notebooks\n",
    "\n",
    "Jupyter notebooks are a handy tool that will allow you to write code and annotate with text-based sections.  Notebooks are divided into \"cells\", which in the standard form include `Markdown` and `Code` types.\n",
    "\n",
    "The `Markdown` cells (such as the one in which these words appear) are useful for writing plain text, displaying static images, linking to external websites or sources, and using $\\LaTeX$ formatting for math or other things.\n",
    "\n",
    "The `Code` cells are where your actual code goes.  The programming language to be used is determined by the kernel, which in our case is the Python3 kernel (see the upper-right corner of the notebook page).  This means all code must be in the Python 3 code format.\n",
    "\n",
    "It is possible to install kernels for other programming languages, however the process is somewhat more involved and is not necessary for this workshop.\n",
    "\n",
    "____\n",
    "\n",
    "Each notebook can be thought of as an interactive code session.  Every cell that has been \"run\" updates the overall session for that notebook.  In this way, you can divide up larger tasks into smaller pieces, carry variable information from one cell to the next, and define functions or set up workflows early on to then use later in the notebook.  There are also a number of ways to interact with things outside the notebook, such as files or even the system itself.\n",
    "\n",
    "In the first few cells, we have the variable `x` being given different values.  The middle cell prints out the current value of `x` whenever you run it.  Run the first three cells in order, then run the `print(x)` command cell again and see how it changes the output.  This is to illustrate the point above, that every cell changes the overall environment as you run it.  So be careful about what variables you use, when and where you use them, and how they might get reassigned.\n",
    "\n",
    "The fourth cell also deletes the variable entirely.  Try it out, followed again by the `print(x)` cell, to see the effects."
   ]
  },
  {
   "cell_type": "code",
   "execution_count": 1,
   "id": "6829e2f3",
   "metadata": {},
   "outputs": [],
   "source": [
    "x = 0"
   ]
  },
  {
   "cell_type": "code",
   "execution_count": 2,
   "id": "1d941d59",
   "metadata": {},
   "outputs": [
    {
     "name": "stdout",
     "output_type": "stream",
     "text": [
      "0\n"
     ]
    }
   ],
   "source": [
    "print(x)"
   ]
  },
  {
   "cell_type": "code",
   "execution_count": 3,
   "id": "c8029d71",
   "metadata": {},
   "outputs": [],
   "source": [
    "x = 1"
   ]
  },
  {
   "cell_type": "code",
   "execution_count": 4,
   "id": "c8163e5d",
   "metadata": {},
   "outputs": [],
   "source": [
    "del x"
   ]
  },
  {
   "attachments": {},
   "cell_type": "markdown",
   "id": "56465b90",
   "metadata": {},
   "source": [
    "If we combined the overall effects of the instructions above into a single cell, it would look like this."
   ]
  },
  {
   "cell_type": "code",
   "execution_count": 5,
   "id": "63face71",
   "metadata": {},
   "outputs": [
    {
     "name": "stdout",
     "output_type": "stream",
     "text": [
      "0\n",
      "1\n"
     ]
    },
    {
     "ename": "NameError",
     "evalue": "name 'x' is not defined",
     "output_type": "error",
     "traceback": [
      "\u001b[0;31m---------------------------------------------------------------------------\u001b[0m",
      "\u001b[0;31mNameError\u001b[0m                                 Traceback (most recent call last)",
      "\u001b[0;32m/tmp/ipykernel_538758/259233960.py\u001b[0m in \u001b[0;36m<module>\u001b[0;34m\u001b[0m\n\u001b[1;32m      4\u001b[0m \u001b[0mprint\u001b[0m\u001b[0;34m(\u001b[0m\u001b[0mx\u001b[0m\u001b[0;34m)\u001b[0m\u001b[0;34m\u001b[0m\u001b[0;34m\u001b[0m\u001b[0m\n\u001b[1;32m      5\u001b[0m \u001b[0;32mdel\u001b[0m \u001b[0mx\u001b[0m\u001b[0;34m\u001b[0m\u001b[0;34m\u001b[0m\u001b[0m\n\u001b[0;32m----> 6\u001b[0;31m \u001b[0mprint\u001b[0m\u001b[0;34m(\u001b[0m\u001b[0mx\u001b[0m\u001b[0;34m)\u001b[0m\u001b[0;34m\u001b[0m\u001b[0;34m\u001b[0m\u001b[0m\n\u001b[0m",
      "\u001b[0;31mNameError\u001b[0m: name 'x' is not defined"
     ]
    }
   ],
   "source": [
    "x = 0\n",
    "print(x)\n",
    "x = 1\n",
    "print(x)\n",
    "del x\n",
    "print(x)"
   ]
  },
  {
   "attachments": {},
   "cell_type": "markdown",
   "id": "c65bd94a",
   "metadata": {},
   "source": [
    "Notice that once we delete our variable using `del`, the variable is completely lost to us, and attempting to use it again without assigning a value results in an error.\n",
    "\n",
    "Now let's look at some basic libraries that let your python code interact with the rest of the system."
   ]
  },
  {
   "attachments": {},
   "cell_type": "markdown",
   "id": "2ef1cd11",
   "metadata": {},
   "source": [
    "### The `os` Library\n",
    "\n",
    "The `os` Python library allows users to interact with the operating system, and is very useful for things ranging from file- and directory-manipulation up to actual command line interactions\n",
    "\n",
    "To start, let's import the `os` library and see what our current location is."
   ]
  },
  {
   "cell_type": "code",
   "execution_count": null,
   "id": "b162b9a0",
   "metadata": {},
   "outputs": [],
   "source": [
    "import os\n",
    "\n",
    "os.getcwd()"
   ]
  },
  {
   "attachments": {},
   "cell_type": "markdown",
   "id": "9a92cfd7",
   "metadata": {},
   "source": [
    "Now let's create a new directory in this location.  We'll call it `new_dir/`.  Also, if it already exists, we'll make sure the system doesn't throw up an error at us and just accepts it.  This is the python equivalent to the bash command `mkdir -p new_dir/`."
   ]
  },
  {
   "cell_type": "code",
   "execution_count": null,
   "id": "cfe00daa",
   "metadata": {},
   "outputs": [],
   "source": [
    "os.makedirs(\"new_dir/\",exist_ok=True)"
   ]
  },
  {
   "attachments": {},
   "cell_type": "markdown",
   "id": "1528c83e",
   "metadata": {},
   "source": [
    "Now that the directory exists, we can move into it.  We'll also confirm that's our current location."
   ]
  },
  {
   "cell_type": "code",
   "execution_count": null,
   "id": "ee7ab969",
   "metadata": {},
   "outputs": [],
   "source": [
    "os.chdir(\"new_dir/\")"
   ]
  },
  {
   "cell_type": "code",
   "execution_count": null,
   "id": "54ee5bc2",
   "metadata": {},
   "outputs": [],
   "source": [
    "os.getcwd()"
   ]
  },
  {
   "attachments": {},
   "cell_type": "markdown",
   "id": "fc6901bf",
   "metadata": {},
   "source": [
    "We can move back and forth easily, just keep in mind that your current location is maintained in the entire notebook session.  If you change your working directory (`os.chdir()`), you'll need to account for that in subsequent cells if you're looking for data files in specific locations.\n",
    "\n",
    "We can also save the path into a variable, and then use that variable for future things."
   ]
  },
  {
   "cell_type": "code",
   "execution_count": null,
   "id": "479e5d9c",
   "metadata": {},
   "outputs": [],
   "source": [
    "os.chdir(\"../\")\n",
    "my_location = os.getcwd()\n",
    "print(my_location)"
   ]
  },
  {
   "attachments": {},
   "cell_type": "markdown",
   "id": "0dc8366e",
   "metadata": {},
   "source": [
    "What if this notebook was a filename?  If we assign just the notebook name to a variable, it doesn't include any path information.  This is the \"relative path\".  We can use the `os.path` module to get the \"absolute path\"."
   ]
  },
  {
   "cell_type": "code",
   "execution_count": null,
   "id": "43067880",
   "metadata": {},
   "outputs": [],
   "source": [
    "this_notebook = \"Jupyter_Notebook_Basics.ipynb\"\n",
    "print(this_notebook)"
   ]
  },
  {
   "cell_type": "code",
   "execution_count": null,
   "id": "66bf5a3f",
   "metadata": {},
   "outputs": [],
   "source": [
    "os.path.abspath(this_notebook)"
   ]
  },
  {
   "attachments": {},
   "cell_type": "markdown",
   "id": "1489ad59",
   "metadata": {},
   "source": [
    "We can see that the module added the string contained in the `this_notebook` variable and added it to the current location, creating the absolute path.  However, let's try this with a file that doesn't exist in this folder."
   ]
  },
  {
   "cell_type": "code",
   "execution_count": null,
   "id": "e62604f2",
   "metadata": {},
   "outputs": [],
   "source": [
    "os.path.abspath(\"does_not_exist.txt\")"
   ]
  },
  {
   "attachments": {},
   "cell_type": "markdown",
   "id": "7060ac1b",
   "metadata": {},
   "source": [
    "The same thing happens.  But this file doesn't exist.  The module has just given us a filepath that would lead to that file in this folder, it didn't actually check to see if that file exists or not.  Fortunately, we can do that on our own."
   ]
  },
  {
   "cell_type": "code",
   "execution_count": null,
   "id": "7deb0192",
   "metadata": {},
   "outputs": [],
   "source": [
    "os.path.exists(\"does_not_exist.txt\")"
   ]
  },
  {
   "attachments": {},
   "cell_type": "markdown",
   "id": "07a0b957",
   "metadata": {},
   "source": [
    "Now we can see that the file doesn't actually exist, reported as a boolean (True/False)\n",
    "\n",
    "Going back to the notebook file, what if we wanted additional information about it?  Let's say we wanted to know when the file was created.  We can use the `getctime` function to get that information.  We can also use `getmtime` to see when the file was modified."
   ]
  },
  {
   "cell_type": "code",
   "execution_count": null,
   "id": "4bdfe906",
   "metadata": {},
   "outputs": [],
   "source": [
    "create_time = os.path.getctime(\"Jupyter_Notebook_Basics.ipynb\")\n",
    "print(create_time)"
   ]
  },
  {
   "attachments": {},
   "cell_type": "markdown",
   "id": "6aaf77dd",
   "metadata": {},
   "source": [
    "That doesn't look like a date/time at all.  That's because the value is reported as the number of seconds since the epoch (Unix start of all time, which was **January 1st, 1970 at 00:00:00 UTC**).\n",
    "If we want a more useful timestamp, we'll need to bring in the `time` library.\n"
   ]
  },
  {
   "cell_type": "code",
   "execution_count": null,
   "id": "0ba90817",
   "metadata": {},
   "outputs": [],
   "source": [
    "import time\n",
    "local_time = time.ctime(create_time)\n",
    "print(local_time)"
   ]
  },
  {
   "attachments": {},
   "cell_type": "markdown",
   "id": "de7bb8e7",
   "metadata": {},
   "source": [
    "That's much better.  Let's also get the file's extension, base name, and parent directory."
   ]
  },
  {
   "cell_type": "code",
   "execution_count": null,
   "id": "1a50339c",
   "metadata": {},
   "outputs": [],
   "source": [
    "full_notebook_path = os.path.abspath(\"Jupyter_Notebook_Basics.ipynb\")\n",
    "print(\"\\tAbsolute Path\")\n",
    "print(full_notebook_path)\n",
    "print(\"\")\n",
    "base_name,extension = os.path.splitext(full_notebook_path)\n",
    "print(\"\\tBase Name\")\n",
    "print(base_name)\n",
    "print(\"\")\n",
    "print(\"\\tExtension\")\n",
    "print(extension)\n",
    "print(\"\")\n",
    "parent_directory = os.path.dirname(full_notebook_path)\n",
    "print(\"\\tParent Directory\")\n",
    "print(parent_directory)"
   ]
  },
  {
   "attachments": {},
   "cell_type": "markdown",
   "id": "9a382674",
   "metadata": {},
   "source": [
    "We can also \"nest\" the `dirname` function multiple times to go up multiple levels."
   ]
  },
  {
   "cell_type": "code",
   "execution_count": null,
   "id": "45326034",
   "metadata": {},
   "outputs": [],
   "source": [
    "grandparent_directory = os.path.dirname(parent_directory)\n",
    "print(grandparent_directory)"
   ]
  },
  {
   "attachments": {},
   "cell_type": "markdown",
   "id": "65217229",
   "metadata": {},
   "source": [
    "### The `subprocess` library\n",
    "\n",
    "One of the ways we can interact with the rest of the system is to use the `subprocess` library.  This library contains a number of methods for these kinds of interactions, depending on what you need from each interaction.\n",
    "\n",
    "First, we'll look at the `.call()` function, which is used when you just need to issue a command and wait for it to finish but don't need the actual outputs from that command.  There are two common ways to use the `.call()` function: With a list of individual parts or with a string and the `shell=True` argument included.  The list form is useful for when you have variables that need to be included in your command (and you don't want to use f-strings)"
   ]
  },
  {
   "cell_type": "code",
   "execution_count": 2,
   "id": "94655bc7",
   "metadata": {},
   "outputs": [
    {
     "name": "stdout",
     "output_type": "stream",
     "text": [
      "chickens\n",
      "chickens\n"
     ]
    }
   ],
   "source": [
    "import subprocess\n",
    "list_call  = subprocess.call([\"echo\",\"chickens\"])\n",
    "shell_call = subprocess.call(\"echo chickens\",shell=True)"
   ]
  },
  {
   "attachments": {},
   "cell_type": "markdown",
   "id": "f0f654c1",
   "metadata": {},
   "source": [
    "In the case of a notebook environment, this still gives us the output.  However, capturing it into a variable like `process` only captures the **return** from the command.  In this case, a return of `0` means the process completed with no errors and exited cleanly."
   ]
  },
  {
   "cell_type": "code",
   "execution_count": null,
   "id": "e866f0bf",
   "metadata": {},
   "outputs": [],
   "source": [
    "shell_call"
   ]
  },
  {
   "cell_type": "code",
   "execution_count": null,
   "id": "bc17afae",
   "metadata": {},
   "outputs": [],
   "source": [
    "list_call"
   ]
  },
  {
   "attachments": {},
   "cell_type": "markdown",
   "id": "1430be12",
   "metadata": {},
   "source": [
    "If we wanted to actually capture the results from a command to use a given value, however, we need to use the `.Popen()` command, which has a few additional arguments.  First, we need to include the `stdout` and `stderr` keywords to properly capture the output and errors from our command.  For both of these, we can use the `subprocess.PIPE` functionality that is part of the `subprocess` library.  This ensures that outputs and errors are kept separate from each other, which can be useful in many ways."
   ]
  },
  {
   "cell_type": "code",
   "execution_count": null,
   "id": "4f49c0b6",
   "metadata": {},
   "outputs": [],
   "source": [
    "process = subprocess.Popen(\"ls -lrth\", shell=True, stdout=subprocess.PIPE, stderr=subprocess.PIPE)"
   ]
  },
  {
   "cell_type": "code",
   "execution_count": null,
   "id": "b7288759",
   "metadata": {},
   "outputs": [],
   "source": [
    "process"
   ]
  },
  {
   "attachments": {},
   "cell_type": "markdown",
   "id": "c60f2506",
   "metadata": {},
   "source": [
    "Notice how now, instead of the return value of 0, we got an object identifier from the subprocess module and its specific memory address (for our purposes, we don't really need to care about the memory address).  What we want, though, is the actual results from the command we ran.  To get that, we need to use the object's built-in `.communicate()` function.  This function returns **TWO** variables, so we'll capture them into two of our own to make it easier to work.  You can choose to capture them as a tuple, but I find that to be more trouble than it's worth later on, so we'll just use the cleaner methods."
   ]
  },
  {
   "cell_type": "code",
   "execution_count": null,
   "id": "640b8e5d",
   "metadata": {},
   "outputs": [],
   "source": [
    "out,err = process.communicate()"
   ]
  },
  {
   "cell_type": "code",
   "execution_count": null,
   "id": "e58d1675",
   "metadata": {},
   "outputs": [],
   "source": [
    "out"
   ]
  },
  {
   "cell_type": "code",
   "execution_count": null,
   "id": "19f72272",
   "metadata": {},
   "outputs": [],
   "source": [
    "err"
   ]
  },
  {
   "attachments": {},
   "cell_type": "markdown",
   "id": "efcfcfe7",
   "metadata": {},
   "source": [
    "You may notice that both `out` and `err` look like strings, except they begin with a `b` character beforehand.  This indicates that the data is actually stored as `binary` data, not common string data.  It's important to know this if you intend to use the information contained in these results, because `string`s and `binary`s don't always provide the same kinds of interactions with other code.\n",
    "\n",
    "To get the `out` in a more useful (for now) string format, we'll need to decode it using the `utf-8` language pack that our linux kernel is working with.  This is generally the most common, though there are other language packs out there."
   ]
  },
  {
   "cell_type": "code",
   "execution_count": null,
   "id": "9da7c7a7",
   "metadata": {},
   "outputs": [],
   "source": [
    "output_string = out.decode('utf-8')\n",
    "print(output_string)"
   ]
  },
  {
   "attachments": {},
   "cell_type": "markdown",
   "id": "af8a3c7d",
   "metadata": {},
   "source": [
    "Notice how, when we used the `print()` function on our new `output_string`, it's properly formatted with multiple lines, just as we'd expect from the `ls -lrth` command in bash.  This also means we can treat this string similar to how we might treat a block of text from a file.\n",
    "\n",
    "What about errors?  In the previous example, `err` was an empty object.  Let's try the same steps as before, except we'll change the command to force an error.  Below, I will \"forget\" to include the dash (`-`) in our `ls -lrth` command.  I'll also decode both the `out` and `err` variables so we can see the results of each."
   ]
  },
  {
   "cell_type": "code",
   "execution_count": null,
   "id": "9705f75b",
   "metadata": {},
   "outputs": [],
   "source": [
    "process = subprocess.Popen(\"ls lrth\", shell=True, stdout=subprocess.PIPE, stderr=subprocess.PIPE)\n",
    "out,err = process.communicate()\n",
    "output_string = out.decode('utf-8')\n",
    "error_string  = err.decode('utf-8')"
   ]
  },
  {
   "cell_type": "code",
   "execution_count": null,
   "id": "bdd19872",
   "metadata": {},
   "outputs": [],
   "source": [
    "print(output_string)"
   ]
  },
  {
   "cell_type": "code",
   "execution_count": null,
   "id": "1d85cd5a",
   "metadata": {},
   "outputs": [],
   "source": [
    "print(error_string)"
   ]
  },
  {
   "attachments": {},
   "cell_type": "markdown",
   "id": "212436a1",
   "metadata": {},
   "source": [
    "Now we can see how separating the output and error can be useful.  If you are running something a bit more complex, getting a non-empty error message can be a quick way to identify problems and halt the program.\n",
    "We can run effectively any bash command from a python environment using the `.call()` and `.Popen()` functions, including multi-line commands separated by semicolons (`;`).  \n",
    "\n",
    "The next examples will print out a word, then wait for three seconds, and then print a second word.  When you run the first two cells below, pay careful attention to the behaviors."
   ]
  },
  {
   "cell_type": "code",
   "execution_count": 3,
   "id": "15b562da",
   "metadata": {},
   "outputs": [
    {
     "name": "stdout",
     "output_type": "stream",
     "text": [
      "potato\n",
      "cabbage\n"
     ]
    },
    {
     "data": {
      "text/plain": [
       "0"
      ]
     },
     "execution_count": 3,
     "metadata": {},
     "output_type": "execute_result"
    }
   ],
   "source": [
    "subprocess.call(\"echo potato; sleep 3; echo cabbage\",shell=True)"
   ]
  },
  {
   "cell_type": "code",
   "execution_count": 4,
   "id": "279f5dd9",
   "metadata": {},
   "outputs": [],
   "source": [
    "proc = subprocess.Popen(\"echo potato; sleep 3; echo cabbage\",shell=True,stdout=subprocess.PIPE,stderr=subprocess.PIPE)"
   ]
  },
  {
   "cell_type": "code",
   "execution_count": null,
   "id": "5ee8d2f9",
   "metadata": {},
   "outputs": [],
   "source": [
    "out,err = proc.communicate()\n",
    "output = out.decode()\n",
    "print(output)"
   ]
  },
  {
   "attachments": {},
   "cell_type": "markdown",
   "id": "5cf9d3b2",
   "metadata": {},
   "source": [
    "The use of `.call()` allows each step of the output to be printed immediately to our console as the process runs, while the `.Popen()` immediately \"completes\".  The next cell with `.communicate()` doesn't give us anything until the entire process has completed.  This is fine if we just need to capture the entire output or if we just need the process to start while the rest of our program continues on.  We can, however, use another method to reclaim the immediacy of `.call()`, which can be useful if we need to watch for a specific pattern in the output.  In the expanded example below, we've added another `sleep 3` command, followed by `echo porcupine`.  This means the entire process should take six seconds (printing the text is effectively zero time for our purposes)."
   ]
  },
  {
   "cell_type": "code",
   "execution_count": null,
   "id": "197d5d90",
   "metadata": {},
   "outputs": [],
   "source": [
    "proc = subprocess.Popen(\"echo potato; sleep 3; echo cabbage; sleep 3; echo porcupine\",shell=True,stdout=subprocess.PIPE,stderr=subprocess.PIPE)\n",
    "for line in proc.stdout:\n",
    "    out_string = line.decode('utf-8')\n",
    "    print(out_string)"
   ]
  },
  {
   "cell_type": "code",
   "execution_count": null,
   "id": "289e5a04",
   "metadata": {},
   "outputs": [],
   "source": [
    "proc = subprocess.Popen(\"echo potato; sleep 3; echo cabbage; sleep 3; echo porcupine\",shell=True,stdout=subprocess.PIPE,stderr=subprocess.PIPE)\n",
    "for line in proc.stdout:\n",
    "    out_string = line.decode('utf-8')\n",
    "    print(out_string)\n",
    "    if \"cabbage\" in out_string:\n",
    "        break"
   ]
  },
  {
   "attachments": {},
   "cell_type": "markdown",
   "id": "6d383947",
   "metadata": {},
   "source": [
    "Notice that the first example of `potato, cabbage, porcupine` printed out each word with a delay in between, just as when we used `.call()`.  In the second example, we added a check to see if we'd encountered `cabbage` in the output, and when we did, the `break` command immediately ended the loop.  However, the process itself is still running in the background.  If we combine pieces from the previous two examples, we can highlight this effect."
   ]
  },
  {
   "cell_type": "code",
   "execution_count": null,
   "id": "7cb41e98",
   "metadata": {},
   "outputs": [],
   "source": [
    "proc = subprocess.Popen(\"echo potato; sleep 3; echo cabbage; sleep 3; echo porcupine\",shell=True,stdout=subprocess.PIPE,stderr=subprocess.PIPE)\n",
    "for line in proc.stdout:\n",
    "    out_string = line.decode('utf-8')\n",
    "    print(out_string)\n",
    "    if \"cabbage\" in out_string:\n",
    "        print(\"I've got to break free!\")\n",
    "        break\n",
    "\n",
    "for line in proc.stdout:\n",
    "    out_string = line.decode('utf-8')\n",
    "    print(out_string)"
   ]
  },
  {
   "attachments": {},
   "cell_type": "markdown",
   "id": "6985332f",
   "metadata": {},
   "source": [
    "The above example shows that even though we escaped the loop, the actual background process was still running, and by starting another loop with the same `proc`, we can just resume the observation.  This is to highlight that unless you actively **STOP** the process you've started, it will continue as normal.  Let's modify the example above to use `.kill()` to terminate the process the moment we encounter a `cabbage` (as one does).  I've also increased the second `sleep` command to 10 seconds to illustrate another point."
   ]
  },
  {
   "cell_type": "code",
   "execution_count": null,
   "id": "8ebdea88",
   "metadata": {},
   "outputs": [],
   "source": [
    "proc = subprocess.Popen(\"echo potato; sleep 3; echo cabbage; sleep 10; echo porcupine\",shell=True,stdout=subprocess.PIPE,stderr=subprocess.PIPE)\n",
    "for line in proc.stdout:\n",
    "    out_string = line.decode('utf-8')\n",
    "    print(out_string)\n",
    "    if \"cabbage\" in out_string:\n",
    "        print(\"I've got to break free!\")\n",
    "        proc.kill()\n",
    "\n",
    "for line in proc.stdout:\n",
    "    out_string = line.decode('utf-8')\n",
    "    print(out_string)\n",
    "print(\"Now the process has been terminated.\")"
   ]
  },
  {
   "attachments": {},
   "cell_type": "markdown",
   "id": "9168d1ba",
   "metadata": {},
   "source": [
    "Even though we sent the kill signal immediately upon detecting a `cabbage`, the final line didn't print until after the `sleep 10` command was complete.  This is because each command in our sequence began *immediately* after the previous one finished, so the kill didn't actually get sent before `sleep 10` started.  Once it finished, however, the process was killed successfully and we never saw a `porcupine` in our outputs.\n",
    "\n",
    "The `subprocess` library can also be useful when using python to create more complicated files and scripts that will then be executed.  However, be careful when combining bash commands into a script if you think you'll need to interrupt it.  Using `subprocess` to run the command `sh ./myscript.sh` means that *everything* inside `myscript.sh` is part of a single step, and you can't terminate it in the same way that you would by running a list of individual commands.  One possibly useful workaround for this is to read the contents of your script into a string variable, then use that string variable in your `subprocess.Popen()` command, rather than the file itself.\n",
    "\n",
    "To help with the next section, we'll also use a `.Popen()` command to quickly create a file inside the `new_dir` folder we made in the `os` library segment."
   ]
  },
  {
   "cell_type": "code",
   "execution_count": 13,
   "id": "a7ed136b",
   "metadata": {},
   "outputs": [],
   "source": [
    "proc = subprocess.Popen(\"echo 'endless garlic breadsticks' >> new_dir/something.txt\",shell=True)"
   ]
  },
  {
   "attachments": {},
   "cell_type": "markdown",
   "id": "b4dcd3db",
   "metadata": {},
   "source": [
    "### The `glob` library\n",
    "\n",
    "The `glob` library is fairly simple, in that it only has a few functions of any real importance to us (at least for this workshop).  It is primarily used to find all files matching a pattern.  The pattern can be specific to a single filename, or it can include wildcards, or even recursively search subdirectories.  Let's take a look at some examples using our current location.\n",
    "\n",
    "First, let's look for this specific notebook, which *should* still be titled `Jupyter_Notebook_Basics.ipynb`."
   ]
  },
  {
   "cell_type": "code",
   "execution_count": 7,
   "id": "0300d4a8",
   "metadata": {},
   "outputs": [
    {
     "data": {
      "text/plain": [
       "['Jupyter_Notebook_Basics.ipynb']"
      ]
     },
     "execution_count": 7,
     "metadata": {},
     "output_type": "execute_result"
    }
   ],
   "source": [
    "import glob\n",
    "glob.glob(\"Jupyter_Notebook_Basics.ipynb\")"
   ]
  },
  {
   "attachments": {},
   "cell_type": "markdown",
   "id": "e8d13592",
   "metadata": {},
   "source": [
    "Note that it gives us the result as a single-element list, not just a string.  Always be sure to pay attention to the kinds of data you're getting from functions, because datatypes matter!\n",
    "\n",
    "Now let's find **ALL** the notebook files in this folder.  We'll use the wildcard character (`*`) in our search pattern."
   ]
  },
  {
   "cell_type": "code",
   "execution_count": 10,
   "id": "e1614c18",
   "metadata": {},
   "outputs": [
    {
     "data": {
      "text/plain": [
       "['Introduction_to_Loops.ipynb',\n",
       " 'Introduction_to_Pandas.ipynb',\n",
       " 'Introduction_to_RDKit.ipynb',\n",
       " 'Introduction_to_Matplotlib.ipynb',\n",
       " 'Introduction_to_Numpy.ipynb',\n",
       " 'Jupyter_Notebook_Basics.ipynb']"
      ]
     },
     "execution_count": 10,
     "metadata": {},
     "output_type": "execute_result"
    }
   ],
   "source": [
    "glob.glob(\"*.ipynb\")"
   ]
  },
  {
   "attachments": {},
   "cell_type": "markdown",
   "id": "c9c3278e",
   "metadata": {},
   "source": [
    "We have a list of all of our notebooks ready to go.  You might notice they're not in any particular order."
   ]
  },
  {
   "attachments": {},
   "cell_type": "markdown",
   "id": "800f5720",
   "metadata": {},
   "source": [
    "We can also search for directories."
   ]
  },
  {
   "cell_type": "code",
   "execution_count": 11,
   "id": "1bdd23a2",
   "metadata": {},
   "outputs": [
    {
     "data": {
      "text/plain": [
       "['new_dir/']"
      ]
     },
     "execution_count": 11,
     "metadata": {},
     "output_type": "execute_result"
    }
   ],
   "source": [
    "glob.glob(\"*/\")"
   ]
  },
  {
   "attachments": {},
   "cell_type": "markdown",
   "id": "8712b0cc",
   "metadata": {},
   "source": [
    "And finally, a search for any files that have extensions, including in any subdirectories."
   ]
  },
  {
   "cell_type": "code",
   "execution_count": 14,
   "id": "85871fae",
   "metadata": {},
   "outputs": [
    {
     "data": {
      "text/plain": [
       "['Introduction_to_Loops.ipynb',\n",
       " 'Introduction_to_Pandas.ipynb',\n",
       " 'Introduction_to_RDKit.ipynb',\n",
       " 'Introduction_to_Matplotlib.ipynb',\n",
       " 'Introduction_to_Numpy.ipynb',\n",
       " 'Jupyter_Notebook_Basics.ipynb',\n",
       " 'new_dir/something.txt']"
      ]
     },
     "execution_count": 14,
     "metadata": {},
     "output_type": "execute_result"
    }
   ],
   "source": [
    "glob.glob(\"**/*.*\",recursive=True)"
   ]
  },
  {
   "attachments": {},
   "cell_type": "markdown",
   "id": "8f3fd489",
   "metadata": {},
   "source": [
    "### Partial Imports\n",
    "\n",
    "Sometimes, it's useful and/or safer to only import the specific functions and classes you actually need from a library.  Or, it can be helpful to import different sections of a library with a different assigned name for each.\n",
    "\n",
    "In the case of the `glob` library above, we only really ever use `glob.glob`, where the first `glob` is the library name and the second `glob` is the function itself.\n",
    "\n",
    "Since we only need that one function, we can do a **partial import**.\n",
    "\n",
    "The syntax is simple:\n",
    "```python\n",
    "from <library> import <function>\n",
    "```"
   ]
  },
  {
   "cell_type": "code",
   "execution_count": 3,
   "id": "bde02c4a",
   "metadata": {},
   "outputs": [],
   "source": [
    "from glob import glob"
   ]
  },
  {
   "attachments": {},
   "cell_type": "markdown",
   "id": "0e8212c5",
   "metadata": {},
   "source": [
    "With this, we have imported the **function** directly, which means we can use it without the first `glob.` part."
   ]
  },
  {
   "cell_type": "code",
   "execution_count": 4,
   "id": "a4e71328",
   "metadata": {},
   "outputs": [
    {
     "data": {
      "text/plain": [
       "['Introduction_to_Matplotlib.ipynb',\n",
       " 'Introduction_to_Numpy.ipynb',\n",
       " 'Jupyter_Notebook_Basics.ipynb',\n",
       " 'Introduction_to_RDKit.ipynb',\n",
       " 'Introduction_to_Pandas.ipynb',\n",
       " 'Introduction_to_Loops.ipynb']"
      ]
     },
     "execution_count": 4,
     "metadata": {},
     "output_type": "execute_result"
    }
   ],
   "source": [
    "glob(\"*.ipynb\")"
   ]
  },
  {
   "attachments": {},
   "cell_type": "markdown",
   "id": "7fe77463",
   "metadata": {},
   "source": [
    "This can also be useful if there's a specific function buried deep within a library that you want, but not necessarily everything else with that library.  It can also ensure that if multiple libraries use the same function name, that one does not overwrite the other when you import them.\n",
    "\n",
    "In fact, let's pretend that the `glob` function was actually buried way down inside the library and we wanted a quick and easy way to call it without having to type a bunch of code.\n",
    "\n",
    "We can reassign the name we use like this:\n",
    "\n",
    "```python\n",
    "from <library> import <function> as <name>\n",
    "```\n",
    "which will let us then use `name` in place of everything that would normally be required for that particular function/module/sublibrary."
   ]
  },
  {
   "cell_type": "code",
   "execution_count": 5,
   "id": "879d1300",
   "metadata": {},
   "outputs": [
    {
     "data": {
      "text/plain": [
       "['Introduction_to_Matplotlib.ipynb',\n",
       " 'Introduction_to_Numpy.ipynb',\n",
       " 'Jupyter_Notebook_Basics.ipynb',\n",
       " 'Introduction_to_RDKit.ipynb',\n",
       " 'Introduction_to_Pandas.ipynb',\n",
       " 'Introduction_to_Loops.ipynb']"
      ]
     },
     "execution_count": 5,
     "metadata": {},
     "output_type": "execute_result"
    }
   ],
   "source": [
    "from glob import glob as G\n",
    "G(\"*.ipynb\")"
   ]
  },
  {
   "attachments": {},
   "cell_type": "markdown",
   "id": "2e72e615",
   "metadata": {},
   "source": [
    "Now, instead of needing `glob.glob()` or even just `glob()`, we can simply use `G()`.  This is a handy way to ease some readability in your code, especially if it's clear what the specific functions you're reassigning actually do."
   ]
  },
  {
   "attachments": {},
   "cell_type": "markdown",
   "id": "b11350dc",
   "metadata": {},
   "source": [
    "#### Topics Covered\n",
    "\n",
    "- `import os` \n",
    "  - `os.getcwd`\n",
    "  - `os.chdir`\n",
    "  - `os.makedirs`\n",
    "  - `os.path.abspath`\n",
    "  - `os.path.exists`\n",
    "  - `os.path.getctime`\n",
    "  - `os.path.getmtime`\n",
    "  - `os.path.splitext`\n",
    "  - `os.path.dirname`\n",
    "- `import time`\n",
    "  - `time.ctime`\n",
    "- `import subprocess`\n",
    "  - `subprocess.call`\n",
    "  - `subprocess.Popen`\n",
    "  - `subprocess.Popen.communicate`\n",
    "  - `subprocess.Popen.stdout`\n",
    "  - `subprocess.Popen.kill`\n",
    "- `import glob`\n",
    "  - `glob.glob`\n",
    "- Partial imports\n",
    "- Library name assignments"
   ]
  }
 ],
 "metadata": {
  "kernelspec": {
   "display_name": "Python 3",
   "language": "python",
   "name": "python3"
  },
  "language_info": {
   "codemirror_mode": {
    "name": "ipython",
    "version": 3
   },
   "file_extension": ".py",
   "mimetype": "text/x-python",
   "name": "python",
   "nbconvert_exporter": "python",
   "pygments_lexer": "ipython3",
   "version": "3.7.11"
  }
 },
 "nbformat": 4,
 "nbformat_minor": 5
}
