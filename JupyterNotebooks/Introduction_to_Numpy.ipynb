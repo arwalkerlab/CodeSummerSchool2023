{
 "cells": [
  {
   "cell_type": "markdown",
   "id": "eafdc3bd",
   "metadata": {},
   "source": [
    "# Introduction to Numpy\n",
    "\n",
    "One of the most popular libraries in python is `numpy`, which contains a number of useful classes and functions for mathematical and organizational purposes.  By convention, nearly all documentation and examples will use `np` as the shorthand for `numpy`."
   ]
  },
  {
   "cell_type": "code",
   "execution_count": null,
   "id": "ef45f00a",
   "metadata": {},
   "outputs": [],
   "source": [
    "import numpy as np"
   ]
  },
  {
   "cell_type": "markdown",
   "id": "65d7e3d9",
   "metadata": {},
   "source": [
    "The base class in `numpy` is the array, which many `numpy` functions return when called.  The first function we will look at is `arange()`, which works similar to `range()` in the base python."
   ]
  },
  {
   "cell_type": "code",
   "execution_count": null,
   "id": "bb4d5d16",
   "metadata": {},
   "outputs": [],
   "source": [
    "np.arange(10)"
   ]
  },
  {
   "cell_type": "markdown",
   "id": "6f1ac50d",
   "metadata": {},
   "source": [
    "The next function is `linspace(X,Y,N)`, which returns an array of $N$ linearly-spaced values between two endpoints, $X$ and $Y$.  Note that while `range()` and `arange()` end before the actual endpoint value, `linspace()` uses inclusive endpoints in the array.\n",
    "\n",
    "Another way to think of it is that `linspace()` provides the values which enclose $N-1$ equally-sized spaces between the endpoints.  In the example below, we can see the values between 0 and 1."
   ]
  },
  {
   "cell_type": "code",
   "execution_count": null,
   "id": "382f9356",
   "metadata": {},
   "outputs": [],
   "source": [
    "np.linspace(0,1,10)"
   ]
  },
  {
   "cell_type": "markdown",
   "id": "a7984fb5",
   "metadata": {},
   "source": [
    "Another powerful tool in the `numpy` toolbox is the `genfromtxt` function, which can be used to read in datafiles like `.csv` files or other formatted text files, converting the values automatically into multi-dimensional arrays with built-in organizational tools.  The next cell uses a special function for jupyter notebooks to directly execute a bash command and display the output.  I've done this just to show the first few lines of the datafile we're using to demonstrate."
   ]
  },
  {
   "cell_type": "code",
   "execution_count": null,
   "id": "f3a939e0",
   "metadata": {},
   "outputs": [],
   "source": [
    "!head ../Datafiles/rmsd.dat"
   ]
  },
  {
   "cell_type": "markdown",
   "id": "1a07b390",
   "metadata": {},
   "source": [
    "We can store our loaded data into a variable, which lets us then use the built-in class functions more easily."
   ]
  },
  {
   "cell_type": "code",
   "execution_count": null,
   "id": "b20a5a90",
   "metadata": {},
   "outputs": [],
   "source": [
    "my_data = np.genfromtxt(\"../Datafiles/rmsd.dat\")"
   ]
  },
  {
   "cell_type": "code",
   "execution_count": null,
   "id": "0510b86f",
   "metadata": {},
   "outputs": [],
   "source": [
    "my_data"
   ]
  },
  {
   "cell_type": "markdown",
   "id": "75c26a7b",
   "metadata": {},
   "source": [
    "If we look carefully, we can see that what we have is actually a list of lists.  That is, our 2-dimensional array of information from the file is actually just a list of smaller, two-element lists.  This means if we want one column only, we have to be careful how we slice the list.\n"
   ]
  },
  {
   "cell_type": "code",
   "execution_count": null,
   "id": "a53a037f",
   "metadata": {},
   "outputs": [],
   "source": [
    "my_data[0,:]"
   ]
  },
  {
   "cell_type": "code",
   "execution_count": null,
   "id": "05ca30f6",
   "metadata": {},
   "outputs": [],
   "source": [
    "my_data[:,0]"
   ]
  },
  {
   "cell_type": "markdown",
   "id": "0c43edf0",
   "metadata": {},
   "source": [
    "The two cells above show us how the first index in our list slice corresponds to the major list (the 'outer' list), while the second index corresponds to the minor list ('inner' list).  The comma (`,`) separates these indices, allowing us to select a slice from the 2D array fairly easily.  In the first example, we've requested the 0-index of the major list, and all elements of the minor list.  In the second example, we've requested all elements of the major list, and only the first element of each minor list obtained. However, the `genfromtxt` function has some additional keywords that can make this much easier.  The first line of our datafile has the names of each column, which we can use during loading.  Then we can use these names similar to how we use keys in a dictionary."
   ]
  },
  {
   "cell_type": "code",
   "execution_count": null,
   "id": "ab2ae7b4",
   "metadata": {},
   "outputs": [],
   "source": [
    "my_data = np.genfromtxt(\"../Datafiles/rmsd.dat\",names=True)"
   ]
  },
  {
   "cell_type": "code",
   "execution_count": null,
   "id": "dae9f740",
   "metadata": {},
   "outputs": [],
   "source": [
    "my_data[\"RMSD_00002\"]"
   ]
  },
  {
   "cell_type": "markdown",
   "id": "22f3ce6e",
   "metadata": {},
   "source": [
    "Using column names can be very helpful when working with larger datasets such as what we might obtain from analysis programs (like `cpptraj`).\n",
    "\n",
    "We can also skip lines in a file (with `skip_header`) or load in only specific columns (with `usecols`).\n"
   ]
  },
  {
   "cell_type": "code",
   "execution_count": null,
   "id": "298c707b",
   "metadata": {},
   "outputs": [],
   "source": [
    "my_data = np.genfromtxt(\"../Datafiles/rmsd.dat\",skip_header=9)"
   ]
  },
  {
   "cell_type": "code",
   "execution_count": null,
   "id": "2d8e44c9",
   "metadata": {},
   "outputs": [],
   "source": [
    "my_data"
   ]
  },
  {
   "cell_type": "code",
   "execution_count": null,
   "id": "779a6b1d",
   "metadata": {},
   "outputs": [],
   "source": [
    "my_data = np.genfromtxt(\"../Datafiles/rmsd.dat\",usecols=1)"
   ]
  },
  {
   "cell_type": "code",
   "execution_count": null,
   "id": "4a1fee0d",
   "metadata": {},
   "outputs": [],
   "source": [
    "my_data"
   ]
  },
  {
   "cell_type": "markdown",
   "id": "4379620e",
   "metadata": {},
   "source": [
    "In the `skip_header` example, we instruct `numpy` to ignore the first nine lines in the file, which correspond to the column names and then the first eight value-pairs in the file.  In the `usecols` example, we are specifying which column (with the first column set as 0) we want to load.  We can also combine keywords to get more specific portions of the file, or modify the behavior in general."
   ]
  },
  {
   "cell_type": "code",
   "execution_count": null,
   "id": "67775425",
   "metadata": {},
   "outputs": [],
   "source": [
    "my_data = np.genfromtxt(\"../Datafiles/rmsd.dat\",names=True,skip_header=9)"
   ]
  },
  {
   "cell_type": "code",
   "execution_count": null,
   "id": "abd2de1e",
   "metadata": {},
   "outputs": [],
   "source": [
    "my_data"
   ]
  },
  {
   "cell_type": "markdown",
   "id": "4327e317",
   "metadata": {},
   "source": [
    "Note that in the cell above, we no longer get column names of \"Frame\" and \"RMSD_00002\", but rather the values from the first non-skipped line.  It is important to be aware of which keywords take priority over others and to be careful to check your data as you go."
   ]
  },
  {
   "cell_type": "markdown",
   "id": "6c12f661",
   "metadata": {},
   "source": [
    "`Numpy` has a number of more complex and useful functions for math, such as found in the `.linalg` submodule.  \n",
    "\n",
    "Let's consider a $3x3$ matrix and a 3-element vector.\n",
    "\n",
    "What if we wanted the determinant of the matrix?  The dot-product of the matrix with the vector? The cross product? `Numpy` can help!  The following cells show the results of each of these different functions.  Note that the `det` function is found inside the `.linalg` submodule, whereas `.cross` and `.dot` are both in the main `numpy` module."
   ]
  },
  {
   "cell_type": "code",
   "execution_count": null,
   "id": "d3e44f51",
   "metadata": {},
   "outputs": [],
   "source": [
    "my_matrix = np.array([[3,1,2],\n",
    "             [3,5,5],\n",
    "             [6,7,4]])\n",
    "my_vector = np.array([1,\n",
    "             3,\n",
    "             5])"
   ]
  },
  {
   "cell_type": "code",
   "execution_count": null,
   "id": "432765ed",
   "metadata": {},
   "outputs": [],
   "source": [
    "# Determinant of a matrix is a scalar value.\n",
    "np.linalg.det(my_matrix)"
   ]
  },
  {
   "cell_type": "code",
   "execution_count": null,
   "id": "e6988ba5",
   "metadata": {},
   "outputs": [],
   "source": [
    "# Cross product of two matrices, assuming they obey MxN and NxP dimensionality, is NxN\n",
    "np.cross(my_matrix,my_vector)"
   ]
  },
  {
   "cell_type": "code",
   "execution_count": null,
   "id": "a87ef766",
   "metadata": {},
   "outputs": [],
   "source": [
    "# Dot product of MxN and NxP matrices is MxP\n",
    "np.dot(my_matrix,my_vector)"
   ]
  },
  {
   "cell_type": "markdown",
   "id": "808bd092",
   "metadata": {},
   "source": [
    "We can also perform more complicated arithmetic functions like matrix diagonalization."
   ]
  },
  {
   "cell_type": "code",
   "execution_count": null,
   "id": "0d4ffe52",
   "metadata": {},
   "outputs": [],
   "source": [
    "# This is NOT diagonalization of the matrix, this simply returns the diagonal OF the matrix as it currently is.\n",
    "np.diag(my_matrix)"
   ]
  },
  {
   "cell_type": "markdown",
   "id": "4ab91745",
   "metadata": {},
   "source": [
    "Matrix diagonalization with `numpy` returns two datasets - the eigenvalues and their corresponding eigenvectors.\n",
    "\n",
    "In chemistry, these are both pretty important sets of numbers to be able to obtain..."
   ]
  },
  {
   "cell_type": "code",
   "execution_count": null,
   "id": "fc886e7e",
   "metadata": {},
   "outputs": [],
   "source": [
    "# To diagonalize the matrix, we use the linalg.eigh() function.\n",
    "eigvals,eigvecs = np.linalg.eigh(my_matrix)"
   ]
  },
  {
   "cell_type": "code",
   "execution_count": null,
   "id": "ae223929",
   "metadata": {},
   "outputs": [],
   "source": [
    "eigvals"
   ]
  },
  {
   "cell_type": "code",
   "execution_count": null,
   "id": "0b61b6de",
   "metadata": {},
   "outputs": [],
   "source": [
    "eigvecs"
   ]
  },
  {
   "cell_type": "markdown",
   "id": "e60d6ebe",
   "metadata": {},
   "source": [
    "We can also perform other matrix operations like transpose or inverse (only for square matrices)."
   ]
  },
  {
   "cell_type": "code",
   "execution_count": null,
   "id": "515b8c42",
   "metadata": {},
   "outputs": [],
   "source": [
    "my_matrix.T"
   ]
  },
  {
   "cell_type": "code",
   "execution_count": null,
   "id": "d4c77d9b",
   "metadata": {},
   "outputs": [],
   "source": [
    "np.linalg.inv(my_matrix)"
   ]
  },
  {
   "cell_type": "markdown",
   "id": "fff48b50",
   "metadata": {},
   "source": [
    "Now, let's say we want to get an array of values, but we don't know what those values are to begin with.  We can simply initialize an array of zeroes of any length or even dimensional shape."
   ]
  },
  {
   "cell_type": "code",
   "execution_count": null,
   "id": "18c5aac6",
   "metadata": {},
   "outputs": [],
   "source": [
    "np.zeros(10)"
   ]
  },
  {
   "cell_type": "code",
   "execution_count": null,
   "id": "e2453ec7",
   "metadata": {},
   "outputs": [],
   "source": [
    "np.zeros([3,4])"
   ]
  },
  {
   "cell_type": "markdown",
   "id": "c0288722",
   "metadata": {},
   "source": [
    "What if we have a list of numbers that should really be a 2D array?\n",
    "We can `.reshape()` an array pretty easily."
   ]
  },
  {
   "cell_type": "code",
   "execution_count": null,
   "id": "43777999",
   "metadata": {},
   "outputs": [],
   "source": [
    "my_array = np.arange(1,13)\n",
    "print(my_array)"
   ]
  },
  {
   "cell_type": "code",
   "execution_count": null,
   "id": "856eaa94",
   "metadata": {},
   "outputs": [],
   "source": [
    "my_array.reshape(3,4)"
   ]
  },
  {
   "cell_type": "markdown",
   "id": "123c8de8",
   "metadata": {},
   "source": [
    "Or, if we have a matrix that we need flattened into a 1-dimensional list?  Or reshaped from one 2D array to another?\n"
   ]
  },
  {
   "cell_type": "code",
   "execution_count": null,
   "id": "e6e4710b",
   "metadata": {},
   "outputs": [],
   "source": [
    "my_matrix = np.array([[ 1,  2,  3,  4],\n",
    "             [ 5,  6,  7,  8],\n",
    "             [ 9, 10, 11, 12]])"
   ]
  },
  {
   "cell_type": "code",
   "execution_count": null,
   "id": "850ef300",
   "metadata": {},
   "outputs": [],
   "source": [
    "my_matrix.flatten()"
   ]
  },
  {
   "cell_type": "code",
   "execution_count": null,
   "id": "c8ccb591",
   "metadata": {},
   "outputs": [],
   "source": [
    "my_matrix.reshape([6,2])"
   ]
  },
  {
   "cell_type": "markdown",
   "id": "cf902c2e",
   "metadata": {},
   "source": [
    "Similar to the `zeros` function, there are the `ones` ($N$-length) and `full`($N$-length of $X$ value) functions as well."
   ]
  },
  {
   "cell_type": "code",
   "execution_count": null,
   "id": "e816e3b6",
   "metadata": {},
   "outputs": [],
   "source": [
    "np.ones(10)"
   ]
  },
  {
   "cell_type": "code",
   "execution_count": null,
   "id": "eb8e1b7a",
   "metadata": {},
   "outputs": [],
   "source": [
    "np.full(10,5)"
   ]
  },
  {
   "cell_type": "markdown",
   "id": "cead3d87",
   "metadata": {},
   "source": [
    "How about if we need some quick, random test data (perhaps for a future notebook demonstration)?\n",
    "\n",
    "For $N$ random values between 0 and 1, we use\n",
    "\n",
    "```python\n",
    "np.random.rand(N)\n",
    "```"
   ]
  },
  {
   "cell_type": "code",
   "execution_count": null,
   "id": "22169391",
   "metadata": {},
   "outputs": [],
   "source": [
    "np.random.rand(10)"
   ]
  },
  {
   "cell_type": "markdown",
   "id": "e50c8ae6",
   "metadata": {},
   "source": [
    "For $N$ random integers between $X$ and $Y$, we use\n",
    "```python\n",
    "np.random.randint(X,Y,N)\n",
    "```"
   ]
  },
  {
   "cell_type": "code",
   "execution_count": null,
   "id": "0aa2efb2",
   "metadata": {},
   "outputs": [],
   "source": [
    "np.random.randint(50,100,15)"
   ]
  },
  {
   "cell_type": "markdown",
   "id": "5b1e398a",
   "metadata": {},
   "source": [
    "We can get more complicated, too, such as requesting random numbers that fall inside a normal distribution (Bell curve).  A set of $N$ values with mean $A$ and standard deviation $S$ is called like this\n",
    "```python\n",
    "np.random.normal(A, S, N)\n",
    "```\n",
    "In the cell below, notice how most of the values lie within the range of $A\\pm S$, though there may be some that lie outside of that range.  In fact, if you were to use a larger random set (say 100,000 elements), you should get pretty close to the established values for normal distributions, where 68% of values fall within $1S$, 95% fall within $2S$, and 99.7% fall within $3S$.\n",
    "\n",
    "Testing that is left as an exercise for later."
   ]
  },
  {
   "cell_type": "code",
   "execution_count": null,
   "id": "98ee056d",
   "metadata": {},
   "outputs": [],
   "source": [
    "my_normal_random = np.random.normal(10, 1.0, 10)\n",
    "print(my_normal_random)"
   ]
  },
  {
   "cell_type": "markdown",
   "id": "e12fb4a5",
   "metadata": {},
   "source": [
    "The `numpy` library is expansive and covers far more than what we can really get into over the course of a single day.  However, the library is well-documented and that documentation is readily accessible online\n",
    "\n",
    "[Numpy Routines](https://numpy.org/doc/stable/reference/routines.html)\n",
    "\n",
    "A good habit to form and follow with python programming is to check if `numpy` has a function to do the thing you need before you spend time developing something yourself.  You may be pleasantly surprised!"
   ]
  }
 ],
 "metadata": {
  "kernelspec": {
   "display_name": "Python 3",
   "language": "python",
   "name": "python3"
  },
  "language_info": {
   "codemirror_mode": {
    "name": "ipython",
    "version": 3
   },
   "file_extension": ".py",
   "mimetype": "text/x-python",
   "name": "python",
   "nbconvert_exporter": "python",
   "pygments_lexer": "ipython3",
   "version": "3.7.11"
  }
 },
 "nbformat": 4,
 "nbformat_minor": 5
}
